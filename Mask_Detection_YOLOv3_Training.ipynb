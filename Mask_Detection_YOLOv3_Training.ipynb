{
  "nbformat": 4,
  "nbformat_minor": 0,
  "metadata": {
    "colab": {
      "name": "Mask_Detection_YOLOv3_Training.ipynb",
      "provenance": [],
      "collapsed_sections": []
    },
    "kernelspec": {
      "name": "python3",
      "display_name": "Python 3"
    },
    "language_info": {
      "name": "python"
    },
    "accelerator": "GPU"
  },
  "cells": [
    {
      "cell_type": "markdown",
      "metadata": {
        "id": "zqyO4XQzyNVl"
      },
      "source": [
        "Implemented By Muhammad Hanan Asghar.\n",
        "Trained On Google Colab GPU."
      ]
    },
    {
      "cell_type": "code",
      "metadata": {
        "colab": {
          "base_uri": "https://localhost:8080/"
        },
        "id": "qgrinZCC73jj",
        "outputId": "eb80fb4a-5f1f-4afa-83b5-f337a46cbf45"
      },
      "source": [
        "from google.colab import drive\n",
        "drive.mount('/content/drive')\n",
        "!ln -s /content/drive/My\\ Drive/ /mydrive\n",
        "!ls /mydrive"
      ],
      "execution_count": 1,
      "outputs": [
        {
          "output_type": "stream",
          "text": [
            "Mounted at /content/drive\n",
            "caltech256.zip\t\t\t       object-detection.zip\t\t yolov3\n",
            "fine_tuned_model\t\t       polish-traffic-signs-dataset.zip\n",
            "labeled-mask-dataset-yolo-darknet.zip  traffic-signs-classification.zip\n"
          ],
          "name": "stdout"
        }
      ]
    },
    {
      "cell_type": "code",
      "metadata": {
        "colab": {
          "base_uri": "https://localhost:8080/"
        },
        "id": "LjsLmp8D8I_t",
        "outputId": "70b8a867-c7b8-4f8e-d486-d9ee6478110c"
      },
      "source": [
        "# Check if NVIDIA GPU is enabled\n",
        "!nvidia-smi"
      ],
      "execution_count": 2,
      "outputs": [
        {
          "output_type": "stream",
          "text": [
            "Sun Jun 20 23:45:28 2021       \n",
            "+-----------------------------------------------------------------------------+\n",
            "| NVIDIA-SMI 465.27       Driver Version: 460.32.03    CUDA Version: 11.2     |\n",
            "|-------------------------------+----------------------+----------------------+\n",
            "| GPU  Name        Persistence-M| Bus-Id        Disp.A | Volatile Uncorr. ECC |\n",
            "| Fan  Temp  Perf  Pwr:Usage/Cap|         Memory-Usage | GPU-Util  Compute M. |\n",
            "|                               |                      |               MIG M. |\n",
            "|===============================+======================+======================|\n",
            "|   0  Tesla T4            Off  | 00000000:00:04.0 Off |                    0 |\n",
            "| N/A   44C    P8     9W /  70W |      0MiB / 15109MiB |      0%      Default |\n",
            "|                               |                      |                  N/A |\n",
            "+-------------------------------+----------------------+----------------------+\n",
            "                                                                               \n",
            "+-----------------------------------------------------------------------------+\n",
            "| Processes:                                                                  |\n",
            "|  GPU   GI   CI        PID   Type   Process name                  GPU Memory |\n",
            "|        ID   ID                                                   Usage      |\n",
            "|=============================================================================|\n",
            "|  No running processes found                                                 |\n",
            "+-----------------------------------------------------------------------------+\n"
          ],
          "name": "stdout"
        }
      ]
    },
    {
      "cell_type": "code",
      "metadata": {
        "colab": {
          "base_uri": "https://localhost:8080/"
        },
        "id": "X7iCrHXX8NEh",
        "outputId": "012a54f1-7885-4f5e-fcfd-4453719637e6"
      },
      "source": [
        "!git clone https://github.com/AlexeyAB/darknet"
      ],
      "execution_count": 3,
      "outputs": [
        {
          "output_type": "stream",
          "text": [
            "Cloning into 'darknet'...\n",
            "remote: Enumerating objects: 15113, done.\u001b[K\n",
            "remote: Counting objects: 100% (40/40), done.\u001b[K\n",
            "remote: Compressing objects: 100% (28/28), done.\u001b[K\n",
            "remote: Total 15113 (delta 15), reused 29 (delta 11), pack-reused 15073\u001b[K\n",
            "Receiving objects: 100% (15113/15113), 13.46 MiB | 23.04 MiB/s, done.\n",
            "Resolving deltas: 100% (10260/10260), done.\n"
          ],
          "name": "stdout"
        }
      ]
    },
    {
      "cell_type": "code",
      "metadata": {
        "id": "RgddJSrs8Oyv"
      },
      "source": [
        "# change makefile to have GPU and OPENCV enabled\n",
        "%cd darknet\n",
        "!sed -i 's/OPENCV=0/OPENCV=1/' Makefile\n",
        "!sed -i 's/GPU=0/GPU=1/' Makefile\n",
        "!sed -i 's/CUDNN=0/CUDNN=1/' Makefile\n",
        "!make"
      ],
      "execution_count": null,
      "outputs": []
    },
    {
      "cell_type": "code",
      "metadata": {
        "id": "j_fVo8Be9Gor"
      },
      "source": [
        "!cp cfg/yolov3.cfg cfg/yolov3_training.cfg"
      ],
      "execution_count": 5,
      "outputs": []
    },
    {
      "cell_type": "markdown",
      "metadata": {
        "id": "OdcxGxa7BtHa"
      },
      "source": [
        "batches = classes*2\n",
        "\n",
        "filters =  (classes+5)x3"
      ]
    },
    {
      "cell_type": "code",
      "metadata": {
        "id": "Z7UuTU048SuT"
      },
      "source": [
        "!sed -i 's/batch=1/batch=64/' cfg/yolov3_training.cfg\n",
        "!sed -i 's/subdivisions=1/subdivisions=16/' cfg/yolov3_training.cfg\n",
        "!sed -i 's/max_batches = 500200/max_batches = 4000/' cfg/yolov3_training.cfg\n",
        "!sed -i '610 s@classes=80@classes=2@' cfg/yolov3_training.cfg\n",
        "!sed -i '696 s@classes=80@classes=2@' cfg/yolov3_training.cfg\n",
        "!sed -i '783 s@classes=80@classes=2@' cfg/yolov3_training.cfg\n",
        "!sed -i '603 s@filters=255@filters=21@' cfg/yolov3_training.cfg\n",
        "!sed -i '689 s@filters=255@filters=21@' cfg/yolov3_training.cfg\n",
        "!sed -i '776 s@filters=255@filters=21@' cfg/yolov3_training.cfg"
      ],
      "execution_count": 6,
      "outputs": []
    },
    {
      "cell_type": "code",
      "metadata": {
        "colab": {
          "base_uri": "https://localhost:8080/"
        },
        "id": "Pp4g5UNS9NSG",
        "outputId": "243f9828-4323-4466-b474-3d20fb362fed"
      },
      "source": [
        "# Create folder on google drive so that we can save there the weights\n",
        "!mkdir \"/mydrive/yolov3\""
      ],
      "execution_count": null,
      "outputs": [
        {
          "output_type": "stream",
          "text": [
            "mkdir: cannot create directory ‘/mydrive/yolov3’: File exists\n"
          ],
          "name": "stdout"
        }
      ]
    },
    {
      "cell_type": "code",
      "metadata": {
        "id": "92kp_LNZ9U9j",
        "colab": {
          "base_uri": "https://localhost:8080/"
        },
        "outputId": "c343e6c4-c4e8-471c-ec57-4f560d51c924"
      },
      "source": [
        "!pwd\n",
        "%cd /content/darknet"
      ],
      "execution_count": 7,
      "outputs": [
        {
          "output_type": "stream",
          "text": [
            "/content/darknet\n",
            "/content/darknet\n"
          ],
          "name": "stdout"
        }
      ]
    },
    {
      "cell_type": "code",
      "metadata": {
        "id": "FogJULNV9Qxi"
      },
      "source": [
        "!echo -e 'classes= 2\\ntrain  = data/train.txt\\nvalid  = data/test.txt\\nnames = data/classes.names\\nbackup = /mydrive/yolov3' > data/obj.data\n",
        "!mkdir data/obj"
      ],
      "execution_count": 8,
      "outputs": []
    },
    {
      "cell_type": "code",
      "metadata": {
        "id": "HSCtCJ1J-L8c"
      },
      "source": [
        "!cp \"/content/train.txt\" \"data/\"\n",
        "!cp \"/content/test.txt\" \"data/\""
      ],
      "execution_count": null,
      "outputs": []
    },
    {
      "cell_type": "code",
      "metadata": {
        "colab": {
          "base_uri": "https://localhost:8080/"
        },
        "id": "fkuac6sI9rN4",
        "outputId": "5b66527f-8cc8-4c0c-c46e-5c3ad45078e1"
      },
      "source": [
        "# Download weights darknet model 53\n",
        "!wget https://pjreddie.com/media/files/darknet53.conv.74"
      ],
      "execution_count": 9,
      "outputs": [
        {
          "output_type": "stream",
          "text": [
            "--2021-06-20 23:48:03--  https://pjreddie.com/media/files/darknet53.conv.74\n",
            "Resolving pjreddie.com (pjreddie.com)... 128.208.4.108\n",
            "Connecting to pjreddie.com (pjreddie.com)|128.208.4.108|:443... connected.\n",
            "HTTP request sent, awaiting response... 200 OK\n",
            "Length: 162482580 (155M) [application/octet-stream]\n",
            "Saving to: ‘darknet53.conv.74’\n",
            "\n",
            "darknet53.conv.74   100%[===================>] 154.96M  43.9MB/s    in 3.9s    \n",
            "\n",
            "2021-06-20 23:48:07 (39.4 MB/s) - ‘darknet53.conv.74’ saved [162482580/162482580]\n",
            "\n"
          ],
          "name": "stdout"
        }
      ]
    },
    {
      "cell_type": "code",
      "metadata": {
        "id": "gJrP_QMT-bXD"
      },
      "source": [
        "!unzip /mydrive/yolov3/dataset.zip -d data/obj"
      ],
      "execution_count": null,
      "outputs": []
    },
    {
      "cell_type": "code",
      "metadata": {
        "colab": {
          "base_uri": "https://localhost:8080/"
        },
        "id": "fewtCiKfA6tD",
        "outputId": "0897196d-3047-4b58-fd43-120e4107b465"
      },
      "source": [
        "import glob\n",
        "images_list = glob.glob(\"data/obj/dataset/images/*.jpg\")\n",
        "print(images_list)"
      ],
      "execution_count": 11,
      "outputs": [
        {
          "output_type": "stream",
          "text": [
            "['data/obj/dataset/images/new_25.jpg', 'data/obj/dataset/images/new_206.jpg', 'data/obj/dataset/images/asian_mask65.jpg', 'data/obj/dataset/images/25.jpg', 'data/obj/dataset/images/asian_mask207.jpg', 'data/obj/dataset/images/50.jpg', 'data/obj/dataset/images/87.jpg', 'data/obj/dataset/images/45.jpg', 'data/obj/dataset/images/new_258.jpg', 'data/obj/dataset/images/asian_mask148.jpg', 'data/obj/dataset/images/new_117.jpg', 'data/obj/dataset/images/crowd_mask140.jpg', 'data/obj/dataset/images/new_69.jpg', 'data/obj/dataset/images/new_260.jpg', 'data/obj/dataset/images/75.jpg', 'data/obj/dataset/images/new_217.jpg', 'data/obj/dataset/images/asian_mask277.jpg', 'data/obj/dataset/images/asian_mask246.jpg', 'data/obj/dataset/images/new_75.jpg', 'data/obj/dataset/images/new_13.jpg', 'data/obj/dataset/images/79.jpg', 'data/obj/dataset/images/asian_mask286.jpg', 'data/obj/dataset/images/106.jpg', 'data/obj/dataset/images/asian_mask8.jpg', 'data/obj/dataset/images/new_215.jpg', 'data/obj/dataset/images/176.jpg', 'data/obj/dataset/images/new_227.jpg', 'data/obj/dataset/images/new_141.jpg', 'data/obj/dataset/images/asian_mask106.jpg', 'data/obj/dataset/images/asian_mask104.jpg', 'data/obj/dataset/images/asian_mask25.jpg', 'data/obj/dataset/images/crowd_mask155.jpg', 'data/obj/dataset/images/150.jpg', 'data/obj/dataset/images/34.jpg', 'data/obj/dataset/images/64.jpg', 'data/obj/dataset/images/crowd_mask95.jpg', 'data/obj/dataset/images/60.jpg', 'data/obj/dataset/images/52.jpg', 'data/obj/dataset/images/new_152.jpg', 'data/obj/dataset/images/65.jpg', 'data/obj/dataset/images/new_76.jpg', 'data/obj/dataset/images/124.jpg', 'data/obj/dataset/images/109.jpg', 'data/obj/dataset/images/new_230.jpg', 'data/obj/dataset/images/new_133.jpg', 'data/obj/dataset/images/asian_mask222.jpg', 'data/obj/dataset/images/new_224.jpg', 'data/obj/dataset/images/crowd_mask28.jpg', 'data/obj/dataset/images/asian_mask210.jpg', 'data/obj/dataset/images/48.jpg', 'data/obj/dataset/images/new_86.jpg', 'data/obj/dataset/images/59.jpg', 'data/obj/dataset/images/68.jpg', 'data/obj/dataset/images/asian_mask57.jpg', 'data/obj/dataset/images/crowd_mask88.jpg', 'data/obj/dataset/images/new_83.jpg', 'data/obj/dataset/images/asian_mask236.jpg', 'data/obj/dataset/images/asian_mask107.jpg', 'data/obj/dataset/images/asian_mask118.jpg', 'data/obj/dataset/images/asian_mask111.jpg', 'data/obj/dataset/images/asian_mask125.jpg', 'data/obj/dataset/images/113.jpg', 'data/obj/dataset/images/asian_mask230.jpg', 'data/obj/dataset/images/asian_mask267.jpg', 'data/obj/dataset/images/21.jpg', 'data/obj/dataset/images/new_191.jpg', 'data/obj/dataset/images/new_6.jpg', 'data/obj/dataset/images/new_55.jpg', 'data/obj/dataset/images/80.jpg', 'data/obj/dataset/images/new_144.jpg', 'data/obj/dataset/images/new_60.jpg', 'data/obj/dataset/images/99.jpg', 'data/obj/dataset/images/crowd_mask167.jpg', 'data/obj/dataset/images/new_250.jpg', 'data/obj/dataset/images/43.jpg', 'data/obj/dataset/images/new_186.jpg', 'data/obj/dataset/images/asian_mask203.jpg', 'data/obj/dataset/images/new_229.jpg', 'data/obj/dataset/images/107.jpg', 'data/obj/dataset/images/asian_mask280.jpg', 'data/obj/dataset/images/158.jpg', 'data/obj/dataset/images/crowd_mask56.jpg', 'data/obj/dataset/images/asian_mask52.jpg', 'data/obj/dataset/images/crowd_mask178.jpg', 'data/obj/dataset/images/26.jpg', 'data/obj/dataset/images/asian_mask233.jpg', 'data/obj/dataset/images/asian_mask274.jpg', 'data/obj/dataset/images/asian_mask115.jpg', 'data/obj/dataset/images/new_249.jpg', 'data/obj/dataset/images/crowd_mask23.jpg', 'data/obj/dataset/images/asian_mask221.jpg', 'data/obj/dataset/images/140.jpg', 'data/obj/dataset/images/asian_mask88.jpg', 'data/obj/dataset/images/crowd_mask195.jpg', 'data/obj/dataset/images/114.jpg', 'data/obj/dataset/images/crowd_mask73.jpg', 'data/obj/dataset/images/new_203.jpg', 'data/obj/dataset/images/crowd_mask59.jpg', 'data/obj/dataset/images/new_53.jpg', 'data/obj/dataset/images/asian_mask195.jpg', 'data/obj/dataset/images/crowd_mask101.jpg', 'data/obj/dataset/images/asian_mask69.jpg', 'data/obj/dataset/images/asian_mask37.jpg', 'data/obj/dataset/images/crowd_mask194.jpg', 'data/obj/dataset/images/74.jpg', 'data/obj/dataset/images/new_11.jpg', 'data/obj/dataset/images/asian_mask105.jpg', 'data/obj/dataset/images/new_200.jpg', 'data/obj/dataset/images/asian_mask279.jpg', 'data/obj/dataset/images/asian_mask144.jpg', 'data/obj/dataset/images/66.jpg', 'data/obj/dataset/images/asian_mask153.jpg', 'data/obj/dataset/images/new_164.jpg', 'data/obj/dataset/images/crowd_mask45.jpg', 'data/obj/dataset/images/crowd_mask198.jpg', 'data/obj/dataset/images/new_93.jpg', 'data/obj/dataset/images/asian_mask32.jpg', 'data/obj/dataset/images/new_255.jpg', 'data/obj/dataset/images/crowd_mask109.jpg', 'data/obj/dataset/images/40.jpg', 'data/obj/dataset/images/crowd_mask35.jpg', 'data/obj/dataset/images/asian_mask175.jpg', 'data/obj/dataset/images/new_65.jpg', 'data/obj/dataset/images/new_154.jpg', 'data/obj/dataset/images/22.jpg', 'data/obj/dataset/images/135.jpg', 'data/obj/dataset/images/asian_mask269.jpg', 'data/obj/dataset/images/new_18.jpg', 'data/obj/dataset/images/crowd_mask27.jpg', 'data/obj/dataset/images/asian_mask262.jpg', 'data/obj/dataset/images/new_231.jpg', 'data/obj/dataset/images/70.jpg', 'data/obj/dataset/images/197.jpg', 'data/obj/dataset/images/new_150.jpg', 'data/obj/dataset/images/new_121.jpg', 'data/obj/dataset/images/crowd_mask179.jpg', 'data/obj/dataset/images/crowd_mask111.jpg', 'data/obj/dataset/images/73.jpg', 'data/obj/dataset/images/191.jpg', 'data/obj/dataset/images/asian_mask253.jpg', 'data/obj/dataset/images/asian_mask114.jpg', 'data/obj/dataset/images/crowd_mask34.jpg', 'data/obj/dataset/images/new_184.jpg', 'data/obj/dataset/images/asian_mask147.jpg', 'data/obj/dataset/images/asian_mask54.jpg', 'data/obj/dataset/images/asian_mask191.jpg', 'data/obj/dataset/images/new_246.jpg', 'data/obj/dataset/images/asian_mask184.jpg', 'data/obj/dataset/images/asian_mask70.jpg', 'data/obj/dataset/images/new_207.jpg', 'data/obj/dataset/images/crowd_mask46.jpg', 'data/obj/dataset/images/new_1.jpg', 'data/obj/dataset/images/new_147.jpg', 'data/obj/dataset/images/32.jpg', 'data/obj/dataset/images/new_10.jpg', 'data/obj/dataset/images/new_151.jpg', 'data/obj/dataset/images/new_126.jpg', 'data/obj/dataset/images/198.jpg', 'data/obj/dataset/images/asian_mask168.jpg', 'data/obj/dataset/images/new_236.jpg', 'data/obj/dataset/images/asian_mask238.jpg', 'data/obj/dataset/images/new_68.jpg', 'data/obj/dataset/images/crowd_mask121.jpg', 'data/obj/dataset/images/new_139.jpg', 'data/obj/dataset/images/asian_mask266.jpg', 'data/obj/dataset/images/153.jpg', 'data/obj/dataset/images/84.jpg', 'data/obj/dataset/images/39.jpg', 'data/obj/dataset/images/new_263.jpg', 'data/obj/dataset/images/147.jpg', 'data/obj/dataset/images/crowd_mask74.jpg', 'data/obj/dataset/images/new_127.jpg', 'data/obj/dataset/images/asian_mask261.jpg', 'data/obj/dataset/images/asian_mask13.jpg', 'data/obj/dataset/images/crowd_mask196.jpg', 'data/obj/dataset/images/82.jpg', 'data/obj/dataset/images/81.jpg', 'data/obj/dataset/images/asian_mask260.jpg', 'data/obj/dataset/images/168.jpg', 'data/obj/dataset/images/new_91.jpg', 'data/obj/dataset/images/asian_mask190.jpg', 'data/obj/dataset/images/88.jpg', 'data/obj/dataset/images/asian_mask61.jpg', 'data/obj/dataset/images/asian_mask87.jpg', 'data/obj/dataset/images/76.jpg', 'data/obj/dataset/images/asian_mask131.jpg', 'data/obj/dataset/images/asian_mask58.jpg', 'data/obj/dataset/images/new_238.jpg', 'data/obj/dataset/images/141.jpg', 'data/obj/dataset/images/asian_mask96.jpg', 'data/obj/dataset/images/crowd_mask2.jpg', 'data/obj/dataset/images/new_8.jpg', 'data/obj/dataset/images/new_39.jpg', 'data/obj/dataset/images/172.jpg', 'data/obj/dataset/images/asian_mask275.jpg', 'data/obj/dataset/images/asian_mask55.jpg', 'data/obj/dataset/images/31.jpg', 'data/obj/dataset/images/new_101.jpg', 'data/obj/dataset/images/new_222.jpg', 'data/obj/dataset/images/new_226.jpg', 'data/obj/dataset/images/18.jpg', 'data/obj/dataset/images/new_172.jpg', 'data/obj/dataset/images/30.jpg', 'data/obj/dataset/images/new_264.jpg', 'data/obj/dataset/images/121.jpg', 'data/obj/dataset/images/new_254.jpg', 'data/obj/dataset/images/177.jpg', 'data/obj/dataset/images/new_85.jpg', 'data/obj/dataset/images/asian_mask177.jpg', 'data/obj/dataset/images/asian_mask284.jpg', 'data/obj/dataset/images/134.jpg', 'data/obj/dataset/images/new_92.jpg', 'data/obj/dataset/images/crowd_mask38.jpg', 'data/obj/dataset/images/asian_mask215.jpg', 'data/obj/dataset/images/new_162.jpg', 'data/obj/dataset/images/new_115.jpg', 'data/obj/dataset/images/crowd_mask146.jpg', 'data/obj/dataset/images/new_15.jpg', 'data/obj/dataset/images/new_36.jpg', 'data/obj/dataset/images/asian_mask59.jpg', 'data/obj/dataset/images/new_265.jpg', 'data/obj/dataset/images/asian_mask188.jpg', 'data/obj/dataset/images/166.jpg', 'data/obj/dataset/images/asian_mask119.jpg', 'data/obj/dataset/images/181.jpg', 'data/obj/dataset/images/new_20.jpg', 'data/obj/dataset/images/55.jpg', 'data/obj/dataset/images/crowd_mask124.jpg', 'data/obj/dataset/images/asian_mask76.jpg', 'data/obj/dataset/images/asian_mask141.jpg', 'data/obj/dataset/images/crowd_mask54.jpg', 'data/obj/dataset/images/92.jpg', 'data/obj/dataset/images/192.jpg', 'data/obj/dataset/images/23.jpg', 'data/obj/dataset/images/asian_mask117.jpg', 'data/obj/dataset/images/asian_mask142.jpg', 'data/obj/dataset/images/crowd_mask61.jpg', 'data/obj/dataset/images/new_216.jpg', 'data/obj/dataset/images/new_135.jpg', 'data/obj/dataset/images/asian_mask245.jpg', 'data/obj/dataset/images/asian_mask234.jpg', 'data/obj/dataset/images/asian_mask74.jpg', 'data/obj/dataset/images/asian_mask89.jpg', 'data/obj/dataset/images/132.jpg', 'data/obj/dataset/images/new_165.jpg', 'data/obj/dataset/images/crowd_mask42.jpg', 'data/obj/dataset/images/asian_mask209.jpg', 'data/obj/dataset/images/new_155.jpg', 'data/obj/dataset/images/asian_mask163.jpg', 'data/obj/dataset/images/160.jpg', 'data/obj/dataset/images/asian_mask152.jpg', 'data/obj/dataset/images/asian_mask298.jpg', 'data/obj/dataset/images/62.jpg', 'data/obj/dataset/images/crowd_mask158.jpg', 'data/obj/dataset/images/142.jpg', 'data/obj/dataset/images/new_34.jpg', 'data/obj/dataset/images/new_194.jpg', 'data/obj/dataset/images/asian_mask28.jpg', 'data/obj/dataset/images/asian_mask156.jpg', 'data/obj/dataset/images/193.jpg', 'data/obj/dataset/images/asian_mask85.jpg', 'data/obj/dataset/images/new_38.jpg', 'data/obj/dataset/images/28.jpg', 'data/obj/dataset/images/new_7.jpg', 'data/obj/dataset/images/crowd_mask112.jpg', 'data/obj/dataset/images/asian_mask288.jpg', 'data/obj/dataset/images/crowd_mask75.jpg', 'data/obj/dataset/images/new_137.jpg', 'data/obj/dataset/images/new_49.jpg', 'data/obj/dataset/images/new_221.jpg', 'data/obj/dataset/images/crowd_mask13.jpg', 'data/obj/dataset/images/new_248.jpg', 'data/obj/dataset/images/asian_mask150.jpg', 'data/obj/dataset/images/new_183.jpg', 'data/obj/dataset/images/asian_mask122.jpg', 'data/obj/dataset/images/112.jpg', 'data/obj/dataset/images/asian_mask295.jpg', 'data/obj/dataset/images/new_122.jpg', 'data/obj/dataset/images/new_102.jpg', 'data/obj/dataset/images/61.jpg', 'data/obj/dataset/images/new_97.jpg', 'data/obj/dataset/images/new_257.jpg', 'data/obj/dataset/images/asian_mask124.jpg', 'data/obj/dataset/images/new_225.jpg', 'data/obj/dataset/images/asian_mask293.jpg', 'data/obj/dataset/images/new_2.jpg', 'data/obj/dataset/images/crowd_mask78.jpg', 'data/obj/dataset/images/crowd_mask161.jpg', 'data/obj/dataset/images/asian_mask44.jpg', 'data/obj/dataset/images/asian_mask90.jpg', 'data/obj/dataset/images/new_50.jpg', 'data/obj/dataset/images/new_176.jpg', 'data/obj/dataset/images/new_142.jpg', 'data/obj/dataset/images/new_21.jpg', 'data/obj/dataset/images/149.jpg', 'data/obj/dataset/images/asian_mask186.jpg', 'data/obj/dataset/images/new_42.jpg', 'data/obj/dataset/images/130.jpg', 'data/obj/dataset/images/asian_mask39.jpg', 'data/obj/dataset/images/crowd_mask152.jpg', 'data/obj/dataset/images/new_140.jpg', 'data/obj/dataset/images/new_185.jpg', 'data/obj/dataset/images/crowd_mask53.jpg', 'data/obj/dataset/images/crowd_mask160.jpg', 'data/obj/dataset/images/new_106.jpg', 'data/obj/dataset/images/asian_mask138.jpg', 'data/obj/dataset/images/asian_mask154.jpg', 'data/obj/dataset/images/asian_mask47.jpg', 'data/obj/dataset/images/new_45.jpg', 'data/obj/dataset/images/8.jpg', 'data/obj/dataset/images/new_131.jpg', 'data/obj/dataset/images/new_4.jpg', 'data/obj/dataset/images/58.jpg', 'data/obj/dataset/images/asian_mask247.jpg', 'data/obj/dataset/images/asian_mask196.jpg', 'data/obj/dataset/images/42.jpg', 'data/obj/dataset/images/crowd_mask24.jpg', 'data/obj/dataset/images/41.jpg', 'data/obj/dataset/images/crowd_mask182.jpg', 'data/obj/dataset/images/asian_mask14.jpg', 'data/obj/dataset/images/new_88.jpg', 'data/obj/dataset/images/new_219.jpg', 'data/obj/dataset/images/asian_mask135.jpg', 'data/obj/dataset/images/new_169.jpg', 'data/obj/dataset/images/97.jpg', 'data/obj/dataset/images/new_44.jpg', 'data/obj/dataset/images/36.jpg', 'data/obj/dataset/images/72.jpg', 'data/obj/dataset/images/new_239.jpg', 'data/obj/dataset/images/new_256.jpg', 'data/obj/dataset/images/crowd_mask181.jpg', 'data/obj/dataset/images/new_266.jpg', 'data/obj/dataset/images/asian_mask192.jpg', 'data/obj/dataset/images/44.jpg', 'data/obj/dataset/images/54.jpg', 'data/obj/dataset/images/asian_mask250.jpg', 'data/obj/dataset/images/new_220.jpg', 'data/obj/dataset/images/new_157.jpg', 'data/obj/dataset/images/new_28.jpg', 'data/obj/dataset/images/46.jpg', 'data/obj/dataset/images/asian_mask271.jpg', 'data/obj/dataset/images/127.jpg', 'data/obj/dataset/images/asian_mask225.jpg', 'data/obj/dataset/images/new_33.jpg', 'data/obj/dataset/images/asian_mask226.jpg', 'data/obj/dataset/images/asian_mask170.jpg', 'data/obj/dataset/images/new_179.jpg', 'data/obj/dataset/images/165.jpg', 'data/obj/dataset/images/asian_mask189.jpg', 'data/obj/dataset/images/crowd_mask25.jpg', 'data/obj/dataset/images/131.jpg', 'data/obj/dataset/images/123.jpg', 'data/obj/dataset/images/asian_mask133.jpg', 'data/obj/dataset/images/new_118.jpg', 'data/obj/dataset/images/asian_mask198.jpg', 'data/obj/dataset/images/crowd_mask64.jpg', 'data/obj/dataset/images/new_177.jpg', 'data/obj/dataset/images/crowd_mask162.jpg', 'data/obj/dataset/images/asian_mask11.jpg', 'data/obj/dataset/images/new_171.jpg', 'data/obj/dataset/images/asian_mask187.jpg', 'data/obj/dataset/images/crowd_mask120.jpg', 'data/obj/dataset/images/6.jpg', 'data/obj/dataset/images/asian_mask19.jpg', 'data/obj/dataset/images/new_180.jpg', 'data/obj/dataset/images/crowd_mask98.jpg', 'data/obj/dataset/images/new_146.jpg', 'data/obj/dataset/images/new_79.jpg', 'data/obj/dataset/images/new_51.jpg', 'data/obj/dataset/images/128.jpg', 'data/obj/dataset/images/asian_mask164.jpg', 'data/obj/dataset/images/asian_mask116.jpg', 'data/obj/dataset/images/asian_mask22.jpg', 'data/obj/dataset/images/asian_mask50.jpg', 'data/obj/dataset/images/new_208.jpg', 'data/obj/dataset/images/182.jpg', 'data/obj/dataset/images/asian_mask103.jpg', 'data/obj/dataset/images/new_23.jpg', 'data/obj/dataset/images/asian_mask282.jpg', 'data/obj/dataset/images/143.jpg', 'data/obj/dataset/images/170.jpg', 'data/obj/dataset/images/new_100.jpg', 'data/obj/dataset/images/asian_mask178.jpg', 'data/obj/dataset/images/117.jpg', 'data/obj/dataset/images/new_114.jpg', 'data/obj/dataset/images/199.jpg', 'data/obj/dataset/images/asian_mask146.jpg', 'data/obj/dataset/images/new_96.jpg', 'data/obj/dataset/images/new_14.jpg', 'data/obj/dataset/images/new_125.jpg', 'data/obj/dataset/images/asian_mask290.jpg', 'data/obj/dataset/images/14.jpg', 'data/obj/dataset/images/asian_mask137.jpg', 'data/obj/dataset/images/47.jpg', 'data/obj/dataset/images/new_213.jpg', 'data/obj/dataset/images/crowd_mask4.jpg', 'data/obj/dataset/images/crowd_mask9.jpg', 'data/obj/dataset/images/new_192.jpg', 'data/obj/dataset/images/new_201.jpg', 'data/obj/dataset/images/asian_mask251.jpg', 'data/obj/dataset/images/asian_mask299.jpg', 'data/obj/dataset/images/new_261.jpg', 'data/obj/dataset/images/100.jpg', 'data/obj/dataset/images/175.jpg', 'data/obj/dataset/images/new_251.jpg', 'data/obj/dataset/images/new_99.jpg', 'data/obj/dataset/images/asian_mask75.jpg', 'data/obj/dataset/images/asian_mask128.jpg', 'data/obj/dataset/images/new_170.jpg', 'data/obj/dataset/images/asian_mask200.jpg', 'data/obj/dataset/images/157.jpg', 'data/obj/dataset/images/180.jpg', 'data/obj/dataset/images/asian_mask6.jpg', 'data/obj/dataset/images/new_112.jpg', 'data/obj/dataset/images/29.jpg', 'data/obj/dataset/images/asian_mask176.jpg', 'data/obj/dataset/images/asian_mask223.jpg', 'data/obj/dataset/images/crowd_mask39.jpg', 'data/obj/dataset/images/new_107.jpg', 'data/obj/dataset/images/asian_mask73.jpg', 'data/obj/dataset/images/asian_mask126.jpg', 'data/obj/dataset/images/asian_mask145.jpg', 'data/obj/dataset/images/new_197.jpg', 'data/obj/dataset/images/asian_mask229.jpg', 'data/obj/dataset/images/asian_mask199.jpg', 'data/obj/dataset/images/138.jpg', 'data/obj/dataset/images/asian_mask35.jpg', 'data/obj/dataset/images/new_253.jpg', 'data/obj/dataset/images/77.jpg', 'data/obj/dataset/images/asian_mask33.jpg', 'data/obj/dataset/images/asian_mask27.jpg', 'data/obj/dataset/images/asian_mask86.jpg', 'data/obj/dataset/images/154.jpg', 'data/obj/dataset/images/crowd_mask77.jpg', 'data/obj/dataset/images/asian_mask68.jpg', 'data/obj/dataset/images/crowd_mask16.jpg', 'data/obj/dataset/images/crowd_mask90.jpg', 'data/obj/dataset/images/163.jpg', 'data/obj/dataset/images/crowd_mask113.jpg', 'data/obj/dataset/images/asian_mask36.jpg', 'data/obj/dataset/images/174.jpg', 'data/obj/dataset/images/new_259.jpg', 'data/obj/dataset/images/144.jpg', 'data/obj/dataset/images/asian_mask208.jpg', 'data/obj/dataset/images/new_64.jpg', 'data/obj/dataset/images/new_84.jpg', 'data/obj/dataset/images/186.jpg', 'data/obj/dataset/images/new_29.jpg', 'data/obj/dataset/images/asian_mask95.jpg', 'data/obj/dataset/images/38.jpg', 'data/obj/dataset/images/133.jpg', 'data/obj/dataset/images/asian_mask276.jpg', 'data/obj/dataset/images/new_30.jpg', 'data/obj/dataset/images/asian_mask278.jpg', 'data/obj/dataset/images/167.jpg', 'data/obj/dataset/images/asian_mask51.jpg', 'data/obj/dataset/images/new_24.jpg', 'data/obj/dataset/images/asian_mask162.jpg', 'data/obj/dataset/images/asian_mask109.jpg', 'data/obj/dataset/images/new_212.jpg', 'data/obj/dataset/images/new_205.jpg', 'data/obj/dataset/images/169.jpg', 'data/obj/dataset/images/12.jpg', 'data/obj/dataset/images/new_269.jpg', 'data/obj/dataset/images/asian_mask66.jpg', 'data/obj/dataset/images/asian_mask292.jpg', 'data/obj/dataset/images/asian_mask84.jpg', 'data/obj/dataset/images/new_181.jpg', 'data/obj/dataset/images/asian_mask15.jpg', 'data/obj/dataset/images/96.jpg', 'data/obj/dataset/images/asian_mask224.jpg', 'data/obj/dataset/images/crowd_mask127.jpg', 'data/obj/dataset/images/122.jpg', 'data/obj/dataset/images/new_174.jpg', 'data/obj/dataset/images/33.jpg', 'data/obj/dataset/images/new_252.jpg', 'data/obj/dataset/images/asian_mask206.jpg', 'data/obj/dataset/images/asian_mask235.jpg', 'data/obj/dataset/images/63.jpg', 'data/obj/dataset/images/asian_mask155.jpg', 'data/obj/dataset/images/new_56.jpg', 'data/obj/dataset/images/asian_mask45.jpg', 'data/obj/dataset/images/new_73.jpg', 'data/obj/dataset/images/new_198.jpg', 'data/obj/dataset/images/71.jpg', 'data/obj/dataset/images/crowd_mask119.jpg', 'data/obj/dataset/images/asian_mask101.jpg', 'data/obj/dataset/images/new_31.jpg', 'data/obj/dataset/images/new_247.jpg', 'data/obj/dataset/images/asian_mask243.jpg', 'data/obj/dataset/images/new_26.jpg', 'data/obj/dataset/images/crowd_mask150.jpg', 'data/obj/dataset/images/new_267.jpg', 'data/obj/dataset/images/asian_mask113.jpg', 'data/obj/dataset/images/new_22.jpg', 'data/obj/dataset/images/asian_mask26.jpg', 'data/obj/dataset/images/asian_mask41.jpg', 'data/obj/dataset/images/asian_mask211.jpg', 'data/obj/dataset/images/asian_mask134.jpg', 'data/obj/dataset/images/asian_mask78.jpg', 'data/obj/dataset/images/91.jpg', 'data/obj/dataset/images/new_211.jpg', 'data/obj/dataset/images/108.jpg', 'data/obj/dataset/images/new_134.jpg', 'data/obj/dataset/images/new_59.jpg', 'data/obj/dataset/images/new_89.jpg', 'data/obj/dataset/images/116.jpg', 'data/obj/dataset/images/new_58.jpg', 'data/obj/dataset/images/asian_mask112.jpg', 'data/obj/dataset/images/asian_mask91.jpg', 'data/obj/dataset/images/crowd_mask63.jpg', 'data/obj/dataset/images/asian_mask9.jpg', 'data/obj/dataset/images/67.jpg', 'data/obj/dataset/images/new_262.jpg', 'data/obj/dataset/images/asian_mask237.jpg', 'data/obj/dataset/images/asian_mask5.jpg', 'data/obj/dataset/images/asian_mask99.jpg', 'data/obj/dataset/images/new_105.jpg', 'data/obj/dataset/images/new_209.jpg', 'data/obj/dataset/images/196.jpg', 'data/obj/dataset/images/16.jpg', 'data/obj/dataset/images/crowd_mask142.jpg', 'data/obj/dataset/images/crowd_mask19.jpg', 'data/obj/dataset/images/crowd_mask102.jpg', 'data/obj/dataset/images/crowd_mask134.jpg', 'data/obj/dataset/images/new_0.jpg', 'data/obj/dataset/images/new_67.jpg', 'data/obj/dataset/images/119.jpg', 'data/obj/dataset/images/new_87.jpg', 'data/obj/dataset/images/asian_mask172.jpg', 'data/obj/dataset/images/137.jpg', 'data/obj/dataset/images/new_218.jpg', 'data/obj/dataset/images/152.jpg', 'data/obj/dataset/images/crowd_mask0.jpg', 'data/obj/dataset/images/new_27.jpg', 'data/obj/dataset/images/115.jpg', 'data/obj/dataset/images/new_123.jpg', 'data/obj/dataset/images/new_124.jpg', 'data/obj/dataset/images/new_130.jpg', 'data/obj/dataset/images/asian_mask272.jpg', 'data/obj/dataset/images/new_111.jpg', 'data/obj/dataset/images/asian_mask232.jpg', 'data/obj/dataset/images/new_228.jpg', 'data/obj/dataset/images/asian_mask227.jpg', 'data/obj/dataset/images/15.jpg', 'data/obj/dataset/images/asian_mask161.jpg', 'data/obj/dataset/images/asian_mask63.jpg', 'data/obj/dataset/images/new_9.jpg', 'data/obj/dataset/images/asian_mask166.jpg', 'data/obj/dataset/images/164.jpg', 'data/obj/dataset/images/125.jpg', 'data/obj/dataset/images/new_104.jpg', 'data/obj/dataset/images/new_108.jpg', 'data/obj/dataset/images/asian_mask159.jpg', 'data/obj/dataset/images/new_41.jpg', 'data/obj/dataset/images/10.jpg', 'data/obj/dataset/images/crowd_mask189.jpg', 'data/obj/dataset/images/7.jpg', 'data/obj/dataset/images/asian_mask121.jpg', 'data/obj/dataset/images/asian_mask71.jpg', 'data/obj/dataset/images/20.jpg', 'data/obj/dataset/images/161.jpg', 'data/obj/dataset/images/101.jpg', 'data/obj/dataset/images/asian_mask123.jpg', 'data/obj/dataset/images/new_182.jpg', 'data/obj/dataset/images/new_241.jpg', 'data/obj/dataset/images/asian_mask291.jpg', 'data/obj/dataset/images/69.jpg', 'data/obj/dataset/images/asian_mask97.jpg', 'data/obj/dataset/images/new_138.jpg', 'data/obj/dataset/images/new_80.jpg', 'data/obj/dataset/images/new_168.jpg', 'data/obj/dataset/images/asian_mask72.jpg', 'data/obj/dataset/images/new_234.jpg', 'data/obj/dataset/images/new_233.jpg', 'data/obj/dataset/images/asian_mask181.jpg', 'data/obj/dataset/images/asian_mask197.jpg', 'data/obj/dataset/images/53.jpg', 'data/obj/dataset/images/asian_mask60.jpg', 'data/obj/dataset/images/new_113.jpg', 'data/obj/dataset/images/asian_mask217.jpg', 'data/obj/dataset/images/asian_mask42.jpg', 'data/obj/dataset/images/asian_mask38.jpg', 'data/obj/dataset/images/new_40.jpg', 'data/obj/dataset/images/asian_mask201.jpg', 'data/obj/dataset/images/new_132.jpg', 'data/obj/dataset/images/asian_mask149.jpg', 'data/obj/dataset/images/51.jpg', 'data/obj/dataset/images/asian_mask4.jpg', 'data/obj/dataset/images/151.jpg', 'data/obj/dataset/images/146.jpg', 'data/obj/dataset/images/crowd_mask60.jpg', 'data/obj/dataset/images/asian_mask83.jpg', 'data/obj/dataset/images/crowd_mask107.jpg', 'data/obj/dataset/images/new_66.jpg', 'data/obj/dataset/images/19.jpg', 'data/obj/dataset/images/asian_mask46.jpg', 'data/obj/dataset/images/crowd_mask141.jpg', 'data/obj/dataset/images/new_145.jpg', 'data/obj/dataset/images/90.jpg', 'data/obj/dataset/images/asian_mask79.jpg', 'data/obj/dataset/images/new_161.jpg', 'data/obj/dataset/images/new_129.jpg', 'data/obj/dataset/images/asian_mask214.jpg', 'data/obj/dataset/images/asian_mask257.jpg', 'data/obj/dataset/images/new_149.jpg', 'data/obj/dataset/images/asian_mask296.jpg', 'data/obj/dataset/images/new_223.jpg', 'data/obj/dataset/images/new_119.jpg', 'data/obj/dataset/images/asian_mask56.jpg', 'data/obj/dataset/images/105.jpg', 'data/obj/dataset/images/asian_mask40.jpg', 'data/obj/dataset/images/crowd_mask132.jpg', 'data/obj/dataset/images/new_204.jpg', 'data/obj/dataset/images/new_81.jpg', 'data/obj/dataset/images/asian_mask194.jpg', 'data/obj/dataset/images/new_245.jpg', 'data/obj/dataset/images/129.jpg', 'data/obj/dataset/images/asian_mask255.jpg', 'data/obj/dataset/images/190.jpg', 'data/obj/dataset/images/crowd_mask62.jpg', 'data/obj/dataset/images/4.jpg', 'data/obj/dataset/images/new_72.jpg', 'data/obj/dataset/images/asian_mask185.jpg', 'data/obj/dataset/images/189.jpg', 'data/obj/dataset/images/asian_mask0.jpg', 'data/obj/dataset/images/9.jpg', 'data/obj/dataset/images/crowd_mask89.jpg', 'data/obj/dataset/images/new_243.jpg', 'data/obj/dataset/images/new_16.jpg', 'data/obj/dataset/images/asian_mask254.jpg', 'data/obj/dataset/images/asian_mask143.jpg', 'data/obj/dataset/images/crowd_mask139.jpg', 'data/obj/dataset/images/83.jpg', 'data/obj/dataset/images/155.jpg', 'data/obj/dataset/images/asian_mask213.jpg', 'data/obj/dataset/images/new_159.jpg', 'data/obj/dataset/images/13.jpg', 'data/obj/dataset/images/crowd_mask117.jpg', 'data/obj/dataset/images/crowd_mask91.jpg', 'data/obj/dataset/images/95.jpg', 'data/obj/dataset/images/new_46.jpg', 'data/obj/dataset/images/crowd_mask65.jpg', 'data/obj/dataset/images/new_5.jpg', 'data/obj/dataset/images/178.jpg', 'data/obj/dataset/images/asian_mask67.jpg', 'data/obj/dataset/images/asian_mask94.jpg', 'data/obj/dataset/images/new_188.jpg', 'data/obj/dataset/images/156.jpg', 'data/obj/dataset/images/asian_mask174.jpg', 'data/obj/dataset/images/78.jpg', 'data/obj/dataset/images/asian_mask252.jpg', 'data/obj/dataset/images/new_158.jpg', 'data/obj/dataset/images/asian_mask220.jpg', 'data/obj/dataset/images/crowd_mask130.jpg', 'data/obj/dataset/images/crowd_mask66.jpg', 'data/obj/dataset/images/new_94.jpg', 'data/obj/dataset/images/asian_mask21.jpg', 'data/obj/dataset/images/asian_mask180.jpg', 'data/obj/dataset/images/new_160.jpg', 'data/obj/dataset/images/new_43.jpg', 'data/obj/dataset/images/crowd_mask69.jpg', 'data/obj/dataset/images/asian_mask48.jpg', 'data/obj/dataset/images/new_82.jpg', 'data/obj/dataset/images/new_193.jpg', 'data/obj/dataset/images/asian_mask179.jpg', 'data/obj/dataset/images/new_70.jpg', 'data/obj/dataset/images/asian_mask165.jpg', 'data/obj/dataset/images/crowd_mask137.jpg', 'data/obj/dataset/images/crowd_mask94.jpg', 'data/obj/dataset/images/asian_mask283.jpg', 'data/obj/dataset/images/asian_mask216.jpg', 'data/obj/dataset/images/195.jpg', 'data/obj/dataset/images/new_244.jpg', 'data/obj/dataset/images/asian_mask285.jpg', 'data/obj/dataset/images/new_268.jpg', 'data/obj/dataset/images/new_237.jpg', 'data/obj/dataset/images/new_120.jpg', 'data/obj/dataset/images/asian_mask202.jpg', 'data/obj/dataset/images/new_47.jpg', 'data/obj/dataset/images/new_173.jpg', 'data/obj/dataset/images/173.jpg', 'data/obj/dataset/images/asian_mask193.jpg', 'data/obj/dataset/images/139.jpg', 'data/obj/dataset/images/asian_mask268.jpg', 'data/obj/dataset/images/crowd_mask170.jpg', 'data/obj/dataset/images/new_98.jpg', 'data/obj/dataset/images/asian_mask23.jpg', 'data/obj/dataset/images/asian_mask259.jpg', 'data/obj/dataset/images/asian_mask62.jpg', 'data/obj/dataset/images/new_189.jpg', 'data/obj/dataset/images/crowd_mask157.jpg', 'data/obj/dataset/images/new_210.jpg', 'data/obj/dataset/images/120.jpg', 'data/obj/dataset/images/asian_mask140.jpg', 'data/obj/dataset/images/asian_mask212.jpg', 'data/obj/dataset/images/new_232.jpg', 'data/obj/dataset/images/asian_mask167.jpg', 'data/obj/dataset/images/asian_mask130.jpg', 'data/obj/dataset/images/new_163.jpg', 'data/obj/dataset/images/crowd_mask49.jpg', 'data/obj/dataset/images/crowd_mask175.jpg', 'data/obj/dataset/images/asian_mask173.jpg', 'data/obj/dataset/images/new_143.jpg', 'data/obj/dataset/images/asian_mask182.jpg', 'data/obj/dataset/images/new_37.jpg', 'data/obj/dataset/images/111.jpg', 'data/obj/dataset/images/asian_mask100.jpg', 'data/obj/dataset/images/49.jpg', 'data/obj/dataset/images/new_128.jpg', 'data/obj/dataset/images/new_166.jpg', 'data/obj/dataset/images/crowd_mask163.jpg', 'data/obj/dataset/images/new_52.jpg', 'data/obj/dataset/images/86.jpg', 'data/obj/dataset/images/crowd_mask131.jpg', 'data/obj/dataset/images/asian_mask102.jpg', 'data/obj/dataset/images/new_187.jpg', 'data/obj/dataset/images/asian_mask265.jpg', 'data/obj/dataset/images/new_116.jpg', 'data/obj/dataset/images/asian_mask160.jpg', 'data/obj/dataset/images/104.jpg', 'data/obj/dataset/images/171.jpg', 'data/obj/dataset/images/new_48.jpg', 'data/obj/dataset/images/asian_mask30.jpg', 'data/obj/dataset/images/new_35.jpg', 'data/obj/dataset/images/new_17.jpg', 'data/obj/dataset/images/102.jpg', 'data/obj/dataset/images/new_19.jpg', 'data/obj/dataset/images/new_57.jpg', 'data/obj/dataset/images/new_63.jpg', 'data/obj/dataset/images/new_178.jpg', 'data/obj/dataset/images/asian_mask289.jpg', 'data/obj/dataset/images/179.jpg', 'data/obj/dataset/images/asian_mask270.jpg', 'data/obj/dataset/images/159.jpg', 'data/obj/dataset/images/new_175.jpg', 'data/obj/dataset/images/asian_mask204.jpg', 'data/obj/dataset/images/new_110.jpg', 'data/obj/dataset/images/new_61.jpg', 'data/obj/dataset/images/asian_mask16.jpg', 'data/obj/dataset/images/new_196.jpg', 'data/obj/dataset/images/new_32.jpg', 'data/obj/dataset/images/new_242.jpg', 'data/obj/dataset/images/asian_mask263.jpg', 'data/obj/dataset/images/asian_mask127.jpg', 'data/obj/dataset/images/new_235.jpg', 'data/obj/dataset/images/new_78.jpg', 'data/obj/dataset/images/asian_mask256.jpg', 'data/obj/dataset/images/crowd_mask83.jpg', 'data/obj/dataset/images/asian_mask158.jpg', 'data/obj/dataset/images/asian_mask20.jpg', 'data/obj/dataset/images/new_153.jpg', 'data/obj/dataset/images/24.jpg', 'data/obj/dataset/images/148.jpg', 'data/obj/dataset/images/98.jpg', 'data/obj/dataset/images/110.jpg', 'data/obj/dataset/images/new_199.jpg', 'data/obj/dataset/images/asian_mask49.jpg', 'data/obj/dataset/images/asian_mask139.jpg', 'data/obj/dataset/images/194.jpg', 'data/obj/dataset/images/56.jpg', 'data/obj/dataset/images/new_77.jpg', 'data/obj/dataset/images/37.jpg', 'data/obj/dataset/images/new_12.jpg', 'data/obj/dataset/images/crowd_mask31.jpg', 'data/obj/dataset/images/5.jpg', 'data/obj/dataset/images/asian_mask258.jpg', 'data/obj/dataset/images/new_214.jpg']\n"
          ],
          "name": "stdout"
        }
      ]
    },
    {
      "cell_type": "code",
      "metadata": {
        "id": "io1jqirO_xVn"
      },
      "source": [
        "# Start the training\n",
        "!./darknet detector train data/obj.data cfg/yolov3_training.cfg darknet53.conv.74 -dont_show"
      ],
      "execution_count": null,
      "outputs": []
    },
    {
      "cell_type": "markdown",
      "metadata": {
        "id": "puqRWpRLcbUh"
      },
      "source": [
        "**TIP:** This training could take several hours depending on how many iterations you chose in the .cfg file. You will want to let this run as you sleep or go to work for the day, etc. However, Colab Cloud Service kicks you off it's VMs if you are idle for too long (30-90 mins).\n",
        "\n",
        "To avoid this hold (CTRL + SHIFT + i) at the same time to open up the inspector view on your browser.\n",
        "\n",
        "Paste the following code into your console window and hit Enter"
      ]
    },
    {
      "cell_type": "markdown",
      "metadata": {
        "id": "ilPEHHqCcWjl"
      },
      "source": [
        "```\n",
        "function ClickConnect(){\n",
        "console.log(\"Working\"); \n",
        "document.querySelector(\"colab-toolbar-button#connect\").click() \n",
        "}\n",
        "setInterval(ClickConnect,60000)\n",
        "```"
      ]
    },
    {
      "cell_type": "markdown",
      "metadata": {
        "id": "_DjXk8WtcpOj"
      },
      "source": [
        "#Performance Chart"
      ]
    },
    {
      "cell_type": "code",
      "metadata": {
        "id": "opqOFRgoyKJv"
      },
      "source": [
        ""
      ],
      "execution_count": null,
      "outputs": []
    }
  ]
}